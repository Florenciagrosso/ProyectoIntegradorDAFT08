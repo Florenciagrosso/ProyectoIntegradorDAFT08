{
 "cells": [
  {
   "cell_type": "code",
   "execution_count": 1,
   "metadata": {},
   "outputs": [],
   "source": [
    "#Cargar las librerias a utilizar\n",
    "import pandas as pd\n",
    "import numpy as np"
   ]
  },
  {
   "cell_type": "code",
   "execution_count": 3,
   "metadata": {},
   "outputs": [],
   "source": [
    "# Leer el Dataframe\n",
    "bookingsdf = pd.read_csv(r'C:\\Users\\flore\\OneDrive\\Documents\\Proyecto Final Clonado\\ProyectoIntegradorDAFT08\\Data\\Data Original\\bookings.csv')\n"
   ]
  },
  {
   "cell_type": "code",
   "execution_count": 4,
   "metadata": {},
   "outputs": [
    {
     "name": "stdout",
     "output_type": "stream",
     "text": [
      "Tipos de datos para la tabla 'aircrafts_data':\n",
      "book_ref        object\n",
      "book_date       object\n",
      "total_amount     int64\n",
      "dtype: object\n"
     ]
    }
   ],
   "source": [
    "# Mostrar los tipos de datos de las columnas\n",
    "print(\"Tipos de datos para la tabla 'aircrafts_data':\")\n",
    "print(bookingsdf.dtypes)"
   ]
  },
  {
   "cell_type": "code",
   "execution_count": null,
   "metadata": {},
   "outputs": [
    {
     "data": {
      "text/plain": [
       "(262788, 3)"
      ]
     },
     "execution_count": 7,
     "metadata": {},
     "output_type": "execute_result"
    }
   ],
   "source": [
    "# Mostrar shape\n",
    "np.shape(bookingsdf)\n"
   ]
  },
  {
   "cell_type": "code",
   "execution_count": 6,
   "metadata": {},
   "outputs": [
    {
     "data": {
      "text/html": [
       "<div>\n",
       "<style scoped>\n",
       "    .dataframe tbody tr th:only-of-type {\n",
       "        vertical-align: middle;\n",
       "    }\n",
       "\n",
       "    .dataframe tbody tr th {\n",
       "        vertical-align: top;\n",
       "    }\n",
       "\n",
       "    .dataframe thead th {\n",
       "        text-align: right;\n",
       "    }\n",
       "</style>\n",
       "<table border=\"1\" class=\"dataframe\">\n",
       "  <thead>\n",
       "    <tr style=\"text-align: right;\">\n",
       "      <th></th>\n",
       "      <th>book_ref</th>\n",
       "      <th>book_date</th>\n",
       "      <th>total_amount</th>\n",
       "    </tr>\n",
       "  </thead>\n",
       "  <tbody>\n",
       "    <tr>\n",
       "      <th>0</th>\n",
       "      <td>00000F</td>\n",
       "      <td>2017-07-05 03:12:00+03</td>\n",
       "      <td>265700</td>\n",
       "    </tr>\n",
       "    <tr>\n",
       "      <th>1</th>\n",
       "      <td>000012</td>\n",
       "      <td>2017-07-14 09:02:00+03</td>\n",
       "      <td>37900</td>\n",
       "    </tr>\n",
       "    <tr>\n",
       "      <th>2</th>\n",
       "      <td>000068</td>\n",
       "      <td>2017-08-15 14:27:00+03</td>\n",
       "      <td>18100</td>\n",
       "    </tr>\n",
       "    <tr>\n",
       "      <th>3</th>\n",
       "      <td>000181</td>\n",
       "      <td>2017-08-10 13:28:00+03</td>\n",
       "      <td>131800</td>\n",
       "    </tr>\n",
       "    <tr>\n",
       "      <th>4</th>\n",
       "      <td>0002D8</td>\n",
       "      <td>2017-08-07 21:40:00+03</td>\n",
       "      <td>23600</td>\n",
       "    </tr>\n",
       "  </tbody>\n",
       "</table>\n",
       "</div>"
      ],
      "text/plain": [
       "  book_ref               book_date  total_amount\n",
       "0   00000F  2017-07-05 03:12:00+03        265700\n",
       "1   000012  2017-07-14 09:02:00+03         37900\n",
       "2   000068  2017-08-15 14:27:00+03         18100\n",
       "3   000181  2017-08-10 13:28:00+03        131800\n",
       "4   0002D8  2017-08-07 21:40:00+03         23600"
      ]
     },
     "execution_count": 6,
     "metadata": {},
     "output_type": "execute_result"
    }
   ],
   "source": [
    "bookingsdf.head()"
   ]
  },
  {
   "cell_type": "code",
   "execution_count": 8,
   "metadata": {},
   "outputs": [
    {
     "data": {
      "text/html": [
       "<div>\n",
       "<style scoped>\n",
       "    .dataframe tbody tr th:only-of-type {\n",
       "        vertical-align: middle;\n",
       "    }\n",
       "\n",
       "    .dataframe tbody tr th {\n",
       "        vertical-align: top;\n",
       "    }\n",
       "\n",
       "    .dataframe thead th {\n",
       "        text-align: right;\n",
       "    }\n",
       "</style>\n",
       "<table border=\"1\" class=\"dataframe\">\n",
       "  <thead>\n",
       "    <tr style=\"text-align: right;\">\n",
       "      <th></th>\n",
       "      <th>book_ref</th>\n",
       "      <th>book_date</th>\n",
       "      <th>total_amount</th>\n",
       "    </tr>\n",
       "  </thead>\n",
       "  <tbody>\n",
       "    <tr>\n",
       "      <th>0</th>\n",
       "      <td>00000F</td>\n",
       "      <td>2017-07-05 03:12:00+03:00</td>\n",
       "      <td>265700</td>\n",
       "    </tr>\n",
       "    <tr>\n",
       "      <th>1</th>\n",
       "      <td>000012</td>\n",
       "      <td>2017-07-14 09:02:00+03:00</td>\n",
       "      <td>37900</td>\n",
       "    </tr>\n",
       "    <tr>\n",
       "      <th>2</th>\n",
       "      <td>000068</td>\n",
       "      <td>2017-08-15 14:27:00+03:00</td>\n",
       "      <td>18100</td>\n",
       "    </tr>\n",
       "    <tr>\n",
       "      <th>3</th>\n",
       "      <td>000181</td>\n",
       "      <td>2017-08-10 13:28:00+03:00</td>\n",
       "      <td>131800</td>\n",
       "    </tr>\n",
       "    <tr>\n",
       "      <th>4</th>\n",
       "      <td>0002D8</td>\n",
       "      <td>2017-08-07 21:40:00+03:00</td>\n",
       "      <td>23600</td>\n",
       "    </tr>\n",
       "  </tbody>\n",
       "</table>\n",
       "</div>"
      ],
      "text/plain": [
       "  book_ref                 book_date  total_amount\n",
       "0   00000F 2017-07-05 03:12:00+03:00        265700\n",
       "1   000012 2017-07-14 09:02:00+03:00         37900\n",
       "2   000068 2017-08-15 14:27:00+03:00         18100\n",
       "3   000181 2017-08-10 13:28:00+03:00        131800\n",
       "4   0002D8 2017-08-07 21:40:00+03:00         23600"
      ]
     },
     "execution_count": 8,
     "metadata": {},
     "output_type": "execute_result"
    }
   ],
   "source": [
    "# Convertir la columna 'book_date' a tipo datetime\n",
    "bookingsdf['book_date'] = pd.to_datetime(bookingsdf['book_date'])\n",
    "bookingsdf.head()"
   ]
  },
  {
   "cell_type": "code",
   "execution_count": 9,
   "metadata": {},
   "outputs": [
    {
     "name": "stdout",
     "output_type": "stream",
     "text": [
      "Tipos de datos para la tabla 'book_date':\n",
      "book_ref                           object\n",
      "book_date       datetime64[ns, UTC+03:00]\n",
      "total_amount                        int64\n",
      "dtype: object\n"
     ]
    }
   ],
   "source": [
    "# Mostrar los tipos de datos de las columnas\n",
    "print(\"Tipos de datos para la tabla 'book_date':\")\n",
    "print(bookingsdf.dtypes)"
   ]
  },
  {
   "cell_type": "code",
   "execution_count": 10,
   "metadata": {},
   "outputs": [
    {
     "name": "stdout",
     "output_type": "stream",
     "text": [
      "book_ref        0\n",
      "book_date       0\n",
      "total_amount    0\n",
      "dtype: int64\n"
     ]
    }
   ],
   "source": [
    "# Comprobar valores nulos\n",
    "print(bookingsdf.isnull().sum())"
   ]
  },
  {
   "cell_type": "code",
   "execution_count": 12,
   "metadata": {},
   "outputs": [
    {
     "name": "stdout",
     "output_type": "stream",
     "text": [
      "count     262,788.00\n",
      "mean       79,025.61\n",
      "std        77,621.92\n",
      "min         3,400.00\n",
      "25%        29,000.00\n",
      "50%        55,900.00\n",
      "75%        99,200.00\n",
      "max     1,204,500.00\n",
      "Name: total_amount, dtype: float64\n"
     ]
    }
   ],
   "source": [
    "# Configurar pandas para mostrar los números con formato legible\n",
    "pd.options.display.float_format = '{:,.2f}'.format\n",
    "\n",
    "# Ver las estadísticas descriptivas formateadas\n",
    "print(bookingsdf['total_amount'].describe())"
   ]
  },
  {
   "cell_type": "markdown",
   "metadata": {},
   "source": [
    "La gran diferencia entre la media (79,025) y la mediana (55,900) podría indicar valores atípicos altos "
   ]
  },
  {
   "cell_type": "code",
   "execution_count": 13,
   "metadata": {},
   "outputs": [],
   "source": [
    "import matplotlib.pyplot as plt\n",
    "import seaborn as sns"
   ]
  },
  {
   "cell_type": "code",
   "execution_count": 20,
   "metadata": {},
   "outputs": [
    {
     "data": {
      "image/png": "[encoded data removed]",
      "text/plain": [
       "<Figure size 1000x600 with 1 Axes>"
      ]
     },
     "metadata": {},
     "output_type": "display_data"
    }
   ],
   "source": [
    "# Crear el gráfico\n",
    "plt.figure(figsize=(10, 6))\n",
    "sns.histplot(bookingsdf['total_amount'], kde=True, bins=50, color='lightblue')\n",
    "\n",
    "# Personalizar el fondo\n",
    "plt.gca().set_facecolor('#1e1e1e')  # Fondo del gráfico en un azul muy oscuro (casi negro)\n",
    "plt.gcf().set_facecolor('#1e1e1e')  # Fondo de la figura también azul muy oscuro\n",
    "\n",
    "# Personalizar el título y las etiquetas\n",
    "plt.title('Distribución de Monto Total', fontsize=18, color='white', weight='bold')\n",
    "plt.xlabel('Monto Total', fontsize=14, color='white')\n",
    "plt.ylabel('Frecuencia', fontsize=14, color='white')\n",
    "\n",
    "# Cambiar el color de los ticks y las etiquetas del eje\n",
    "plt.tick_params(axis='both', colors='white', labelsize=12)\n",
    "\n",
    "# Personalizar la cuadrícula (si la deseas visible)\n",
    "plt.grid(True, linestyle='--', linewidth=0.5, color='white', alpha=0.6)\n",
    "\n",
    "# Mostrar el gráfico\n",
    "plt.show()\n"
   ]
  },
  {
   "cell_type": "markdown",
   "metadata": {},
   "source": [
    "La mayoría de los montos totales son relativamente bajos, pero hay una cantidad menor de transacciones con valores mucho más altos. Esto sugiere la presencia de algunos valores atípicos que podrían estar influyendo en la media."
   ]
  },
  {
   "cell_type": "code",
   "execution_count": null,
   "metadata": {},
   "outputs": [
    {
     "name": "stdout",
     "output_type": "stream",
     "text": [
      "count     262,788.00\n",
      "mean       79,025.61\n",
      "std        77,621.92\n",
      "min         3,400.00\n",
      "25%        29,000.00\n",
      "50%        55,900.00\n",
      "75%        99,200.00\n",
      "max     1,204,500.00\n",
      "Name: total_amount, dtype: float64\n"
     ]
    }
   ],
   "source": [
    "# Configurar pandas para mostrar los números con formato legible\n",
    "pd.options.display.float_format = '{:,.2f}'.format\n",
    "\n",
    "# Ver las estadísticas descriptivas formateadas\n",
    "print(bookingsdf['total_amount'].describe())"
   ]
  },
  {
   "cell_type": "markdown",
   "metadata": {},
   "source": [
    "book_ref: Es un identificador único para cada reserva o transacción."
   ]
  },
  {
   "cell_type": "markdown",
   "metadata": {},
   "source": [
    "book_date: La fecha y hora en que se realizó la reserva, incluyendo la zona horaria (+03:00 sugiere una zona horaria como la de Moscú).\n"
   ]
  },
  {
   "cell_type": "markdown",
   "metadata": {},
   "source": [
    "total_amount: El monto total de la transacción, es decir, el costo total del vuelo.\n"
   ]
  }
 ],
 "metadata": {
  "kernelspec": {
   "display_name": "Python 3",
   "language": "python",
   "name": "python3"
  },
  "language_info": {
   "codemirror_mode": {
    "name": "ipython",
    "version": 3
   },
   "file_extension": ".py",
   "mimetype": "text/x-python",
   "name": "python",
   "nbconvert_exporter": "python",
   "pygments_lexer": "ipython3",
   "version": "3.12.6"
  }
 },
 "nbformat": 4,
 "nbformat_minor": 2
}
